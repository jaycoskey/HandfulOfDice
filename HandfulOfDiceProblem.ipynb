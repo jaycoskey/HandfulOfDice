{
 "cells": [
  {
   "cell_type": "markdown",
   "metadata": {},
   "source": [
    "# Inferring a Handful of Dice"
   ]
  },
  {
   "cell_type": "code",
   "execution_count": 1,
   "metadata": {
    "collapsed": true
   },
   "outputs": [],
   "source": [
    "from collections import Counter\n",
    "from dice_pmf import DicePmf, DiceUtil\n",
    "import matplotlib.pyplot as plt\n",
    "import unittest"
   ]
  },
  {
   "cell_type": "code",
   "execution_count": 2,
   "metadata": {},
   "outputs": [
    {
     "name": "stdout",
     "output_type": "stream",
     "text": [
      "INFO: Classes in scope: ['Counter', 'DicePmf', 'DiceUtil']\n"
     ]
    }
   ],
   "source": [
    "classes = {name: obj for name, obj in globals().copy().items() if type(obj).__name__ == 'type'}\n",
    "print(f'INFO: Classes in scope: {list(classes.keys())}')"
   ]
  },
  {
   "cell_type": "markdown",
   "metadata": {},
   "source": [
    "# Main"
   ]
  },
  {
   "cell_type": "code",
   "execution_count": 3,
   "metadata": {
    "collapsed": true
   },
   "outputs": [],
   "source": [
    "def main():\n",
    "    dice = {4: 3, 20: 1}\n",
    "    print(f'Dice collection: {dice}')\n",
    "    dist = Counter(DiceUtil.get_dice_rolls(dice, num_rolls=100_000))\n",
    "    dpmf_inferred = DicePmf.dice_infer(dist, kind='entropy')\n",
    "    print(f'Dice Inferred: {dpmf_inferred.dice}')"
   ]
  },
  {
   "cell_type": "code",
   "execution_count": 4,
   "metadata": {
    "scrolled": false
   },
   "outputs": [
    {
     "name": "stdout",
     "output_type": "stream",
     "text": [
      "Dice collection: {4: 3, 20: 1}\n",
      "d4 ranges from 0 to 5.\n",
      "d4=0: *......*......*......*......*......*......\n",
      "d4=1: *......*......*......*......*......*......\n",
      "d4=2: *......*......*......*......*......*......\n",
      "d4=3: *......*......*......*......*......*......\n",
      "d4=4: *......*......*......*......*......*......\n",
      "d4=5: *......*......*......*......*......*......\n",
      "Dice Inferred: {4: 3, 6: 0, 8: 0, 12: 0, 20: 1}\n"
     ]
    }
   ],
   "source": [
    "main()"
   ]
  },
  {
   "cell_type": "markdown",
   "metadata": {},
   "source": [
    "# Show dice probability mass function (pmf)"
   ]
  },
  {
   "cell_type": "code",
   "execution_count": 5,
   "metadata": {
    "scrolled": true
   },
   "outputs": [
    {
     "data": {
      "image/png": "[encoded data removed]",
      "text/plain": [
       "<matplotlib.figure.Figure at 0x10bbd4940>"
      ]
     },
     "metadata": {},
     "output_type": "display_data"
    }
   ],
   "source": [
    "def show_dice_probability_mass_function(dpmf):\n",
    "    plt.bar(range(dpmf.low, dpmf.high + 1)\n",
    "        , dpmf.pmf\n",
    "        , align='center'\n",
    "        , color='darkgreen'\n",
    "        , width=0.60\n",
    "        )\n",
    "    ax = plt.gca()\n",
    "    ax.get_yaxis().set_major_formatter(plt.FuncFormatter(lambda x, loc: \"{:.2f}\".format(x)))\n",
    "    dstr = DiceUtil.dice_str(dpmf.dice)\n",
    "    plt.title(f'Probability mass function of rolls of a handful of dice\\n({dstr})')\n",
    "    # plt.xticks=[5,10,15,20,25,30,35,40,45]\n",
    "    plt.show()\n",
    "        \n",
    "dpmf = DicePmf({4: 3, 20: 1})\n",
    "show_dice_probability_mass_function(dpmf)"
   ]
  },
  {
   "cell_type": "markdown",
   "metadata": {},
   "source": [
    "# Show observed distribution"
   ]
  },
  {
   "cell_type": "code",
   "execution_count": 6,
   "metadata": {},
   "outputs": [
    {
     "data": {
      "image/png": "[encoded data removed]",
      "text/plain": [
       "<matplotlib.figure.Figure at 0x10d004ba8>"
      ]
     },
     "metadata": {},
     "output_type": "display_data"
    }
   ],
   "source": [
    "def show_observed_distribution(dist, dstr):\n",
    "    x = dist.keys()\n",
    "    y = dist.values()\n",
    "    plt.bar(x, y, align='center', color='darkblue', width=0.60)\n",
    "    ax = plt.gca()\n",
    "    ax.get_yaxis().set_major_formatter(plt.FuncFormatter(lambda x, loc: \"{:,}\".format(int(x))))\n",
    "    plt.title(f'Counts of one million rolls of a handful of dice\\n({dstr})')\n",
    "    # plt.xticks=[5,10,15,20,25,30,35,40,45]\n",
    "    plt.show()\n",
    "        \n",
    "dice = {4: 3, 20: 1}\n",
    "dist = Counter(DiceUtil.get_dice_rolls(dice, num_rolls=1_000_000))\n",
    "show_observed_distribution(dist, DiceUtil.dice_str(dice))"
   ]
  }
 ],
 "metadata": {
  "kernelspec": {
   "display_name": "Python 3",
   "language": "python",
   "name": "python3"
  },
  "language_info": {
   "codemirror_mode": {
    "name": "ipython",
    "version": 3
   },
   "file_extension": ".py",
   "mimetype": "text/x-python",
   "name": "python",
   "nbconvert_exporter": "python",
   "pygments_lexer": "ipython3",
   "version": "3.6.3"
  }
 },
 "nbformat": 4,
 "nbformat_minor": 2
}
